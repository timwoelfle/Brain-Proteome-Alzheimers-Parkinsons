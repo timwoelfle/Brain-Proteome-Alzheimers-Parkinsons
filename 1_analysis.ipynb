{
 "cells": [
  {
   "cell_type": "markdown",
   "metadata": {},
   "source": [
    "# Brain proteome in Alzheimer's and Parkinson's disease\n",
    "\n",
    "By Tim Woelfle, 27/08/2019\n",
    "\n",
    "This is an exploratory analysis of the openly available brain proteome dataset by Ping et al., described in their 2018 article: [Ping, L., Duong, D.M., Yin, L., Gearing, M., et al. (2018) *Global quantitative analysis of the human brain proteome in Alzheimer’s and Parkinson’s Disease*. Scientific Data. [Online] 5, 180036. Available from: doi:10.1038/sdata.2018.36.](https://www.nature.com/articles/sdata201836)\n",
    "\n",
    "It contains mass-spectrometry based proteomes from 40 brain tissue donors: 10 controls, 10 Alzheimer's patients (AD), 10 Parkinson's patients (PD) and 10 patients with both (ADPD). Samples were analyzed from the frontal cortex (Brodmann area 9) and the cingulate gyrus (Brodmann area 24). This exploratory analysis focuses on Alzheimer's Disease and the cingulate gyrus but could be repeated in the same way for Parkinson's Disease and / or the frontal cortex. An overview of most methods used here is given in this [review-paper on statistical OMICS analysis (subscription only)](https://onlinelibrary.wiley.com/doi/abs/10.1002/em.21797).\n",
    "\n",
    "## Table of contents\n",
    "\n",
    "1. [Sample overview](#1.-Sample-overview)\n",
    "    1. [Sex distribution by condition](#1.1-Sex-distribution-by-condition)\n",
    "    2. [Age at death by condition](#1.2-Age-at-death-by-condition)\n",
    "2. [Cingulate proteome preprocessing](#2.-Cingulate-proteome-preprocessing)\n",
    "    1. [Investigate missing values](#2.1-Investigate-missing-values)\n",
    "    2. [Remove proteins with NAs and normalize](#2.2-Remove-proteins-with-NAs-and-normalize)\n",
    "3. [Dimensionality reduction](#3.-Dimensionality-reduction)\n",
    "    1. [Principal component analysis](#3.1-Principal-component-analysis)\n",
    "    2. [UMAP](#3.2.-UMAP)\n",
    "    3. [Partial least squares](#3.3.-Partial-least-squares)\n",
    "4. [Univariate analysis](#4.-Univariate-analysis)\n",
    "    1. [Multiple univariate linear regression](#4.1-Multiple-univariate-linear-regression)\n",
    "        1. [Significance tests and volcano plot](#4.1.1-Significance-tests-and-volcano-plot)\n",
    "        2. [Biological interpretation](#4.1.2-Biological-interpretation)\n",
    "    2. [Multiple univariate logistic regression](#4.2-Multiple-univariate-logistic-regression)\n",
    "        1. [Significance tests and volcano plot](#4.2.1-Significance-tests-and-volcano-plot)\n",
    "        2. [Biological interpretation](#4.2.2-Biological-interpretation)\n",
    "    3. [Comparison of univariate linear- and logistic-regression results](#4.3-Comparison-of-univariate-linear--and-logistic-regression-results)\n",
    "5. [Multivariate LASSO logistic regression](#5-Multivariate-LASSO-logistic-regression)\n",
    "    1. [Test-set performance](#5.1-Test-set-performance)"
   ]
  },
  {
   "cell_type": "code",
   "execution_count": 1,
   "metadata": {},
   "outputs": [],
   "source": [
    "import numpy as np\n",
    "import pandas as pd\n",
    "import seaborn as sns\n",
    "\n",
    "import umap\n",
    "\n",
    "import statsmodels.formula.api as smf\n",
    "import statsmodels.stats.multitest as smm\n",
    "\n",
    "from sklearn.decomposition import PCA\n",
    "from sklearn.cross_decomposition import PLSRegression\n",
    "from sklearn.linear_model import LogisticRegressionCV\n",
    "from sklearn.model_selection import train_test_split\n",
    "from sklearn import metrics"
   ]
  },
  {
   "cell_type": "markdown",
   "metadata": {},
   "source": [
    "## 1. Sample overview\n",
    "\n",
    "samples_trait_cingulate.csv is derived  from the second sheet \"anterior cingulate gyrus\" of [samples trait.xlsx](https://dx.doi.org/10.7303/syn10225995.1)"
   ]
  },
  {
   "cell_type": "code",
   "execution_count": 2,
   "metadata": {},
   "outputs": [
    {
     "data": {
      "text/html": [
       "<div>\n",
       "<style scoped>\n",
       "    .dataframe tbody tr th:only-of-type {\n",
       "        vertical-align: middle;\n",
       "    }\n",
       "\n",
       "    .dataframe tbody tr th {\n",
       "        vertical-align: top;\n",
       "    }\n",
       "\n",
       "    .dataframe thead th {\n",
       "        text-align: right;\n",
       "    }\n",
       "</style>\n",
       "<table border=\"1\" class=\"dataframe\">\n",
       "  <thead>\n",
       "    <tr style=\"text-align: right;\">\n",
       "      <th></th>\n",
       "      <th>Case number</th>\n",
       "      <th>Primary neuropathologic diagnosis</th>\n",
       "      <th>Overall CERAD</th>\n",
       "      <th>Braak</th>\n",
       "      <th>PMI (hr)</th>\n",
       "      <th>Age of Onset</th>\n",
       "      <th>Age at Death</th>\n",
       "      <th>Duration (yr)2</th>\n",
       "      <th>ApoE Status</th>\n",
       "      <th>Race</th>\n",
       "      <th>Sex</th>\n",
       "    </tr>\n",
       "  </thead>\n",
       "  <tbody>\n",
       "    <tr>\n",
       "      <td>0</td>\n",
       "      <td>OS98-11</td>\n",
       "      <td>AD 1</td>\n",
       "      <td>3</td>\n",
       "      <td>6</td>\n",
       "      <td>6.0</td>\n",
       "      <td>56.0</td>\n",
       "      <td>65</td>\n",
       "      <td>9.0</td>\n",
       "      <td>E4/4</td>\n",
       "      <td>w</td>\n",
       "      <td>f</td>\n",
       "    </tr>\n",
       "    <tr>\n",
       "      <td>1</td>\n",
       "      <td>OS00-11</td>\n",
       "      <td>AD 2</td>\n",
       "      <td>3</td>\n",
       "      <td>5</td>\n",
       "      <td>4.0</td>\n",
       "      <td>49.0</td>\n",
       "      <td>55</td>\n",
       "      <td>6.0</td>\n",
       "      <td>E3/3</td>\n",
       "      <td>w</td>\n",
       "      <td>m</td>\n",
       "    </tr>\n",
       "    <tr>\n",
       "      <td>2</td>\n",
       "      <td>OS00-32</td>\n",
       "      <td>AD 3</td>\n",
       "      <td>3</td>\n",
       "      <td>6</td>\n",
       "      <td>3.5</td>\n",
       "      <td>55.0</td>\n",
       "      <td>62</td>\n",
       "      <td>7.0</td>\n",
       "      <td>E3/4</td>\n",
       "      <td>w</td>\n",
       "      <td>m</td>\n",
       "    </tr>\n",
       "    <tr>\n",
       "      <td>3</td>\n",
       "      <td>OS03-163</td>\n",
       "      <td>AD 4</td>\n",
       "      <td>3</td>\n",
       "      <td>6</td>\n",
       "      <td>4.5</td>\n",
       "      <td>51.0</td>\n",
       "      <td>55</td>\n",
       "      <td>4.0</td>\n",
       "      <td>E3/4</td>\n",
       "      <td>w</td>\n",
       "      <td>f</td>\n",
       "    </tr>\n",
       "    <tr>\n",
       "      <td>4</td>\n",
       "      <td>E04-186</td>\n",
       "      <td>AD 5</td>\n",
       "      <td>3</td>\n",
       "      <td>6</td>\n",
       "      <td>7.0</td>\n",
       "      <td>59.0</td>\n",
       "      <td>72</td>\n",
       "      <td>13.0</td>\n",
       "      <td>E3/4</td>\n",
       "      <td>w</td>\n",
       "      <td>f</td>\n",
       "    </tr>\n",
       "  </tbody>\n",
       "</table>\n",
       "</div>"
      ],
      "text/plain": [
       "  Case number  Primary neuropathologic diagnosis  Overall CERAD  Braak  \\\n",
       "0      OS98-11                              AD 1              3      6   \n",
       "1      OS00-11                              AD 2              3      5   \n",
       "2      OS00-32                              AD 3              3      6   \n",
       "3     OS03-163                              AD 4              3      6   \n",
       "4      E04-186                              AD 5              3      6   \n",
       "\n",
       "   PMI (hr)  Age of Onset  Age at Death  Duration (yr)2 ApoE Status Race Sex  \n",
       "0       6.0          56.0            65             9.0        E4/4    w   f  \n",
       "1       4.0          49.0            55             6.0        E3/3    w   m  \n",
       "2       3.5          55.0            62             7.0        E3/4    w   m  \n",
       "3       4.5          51.0            55             4.0        E3/4    w   f  \n",
       "4       7.0          59.0            72            13.0        E3/4    w   f  "
      ]
     },
     "execution_count": 2,
     "metadata": {},
     "output_type": "execute_result"
    }
   ],
   "source": [
    "samples = pd.read_csv(\"samples_trait_cingulate.csv\")\n",
    "samples.head()"
   ]
  },
  {
   "cell_type": "markdown",
   "metadata": {},
   "source": [
    "### 1.1 Sex distribution by condition"
   ]
  },
  {
   "cell_type": "code",
   "execution_count": 3,
   "metadata": {},
   "outputs": [
    {
     "data": {
      "text/plain": [
       "<matplotlib.axes._subplots.AxesSubplot at 0x7f36cd4937f0>"
      ]
     },
     "execution_count": 3,
     "metadata": {},
     "output_type": "execute_result"
    },
    {
     "data": {
      "image/png": "[encoded data removed]",
      "text/plain": [
       "<Figure size 432x288 with 1 Axes>"
      ]
     },
     "metadata": {
      "needs_background": "light"
     },
     "output_type": "display_data"
    }
   ],
   "source": [
    "samples[\"Condition\"] = pd.Series([\"AD\",\"AD\",\"Control\",\"Control\",\"PD\",\"PD\",\"ADPD\",\"ADPD\"]*5)\n",
    "pd.crosstab(samples.Condition, samples.Sex, margins=True).plot.bar()"
   ]
  },
  {
   "cell_type": "markdown",
   "metadata": {},
   "source": [
    "### 1.2 Age at death by condition"
   ]
  },
  {
   "cell_type": "code",
   "execution_count": 4,
   "metadata": {},
   "outputs": [
    {
     "data": {
      "text/plain": [
       "<matplotlib.axes._subplots.AxesSubplot at 0x7f36cd493828>"
      ]
     },
     "execution_count": 4,
     "metadata": {},
     "output_type": "execute_result"
    },
    {
     "data": {
      "image/png": "[encoded data removed]",
      "text/plain": [
       "<Figure size 432x288 with 1 Axes>"
      ]
     },
     "metadata": {
      "needs_background": "light"
     },
     "output_type": "display_data"
    }
   ],
   "source": [
    "samples.boxplot(\"Age at Death\", by=\"Condition\")"
   ]
  },
  {
   "cell_type": "markdown",
   "metadata": {},
   "source": [
    "## 2. Cingulate proteome preprocessing\n",
    "\n",
    "cingulate.csv is derived from the second sheet \"anterior cingulate gyrus\" of [TMT_Summary_Data.xlsx](https://www.synapse.org/#!Synapse:syn10239444) with the first two rows removed"
   ]
  },
  {
   "cell_type": "code",
   "execution_count": 5,
   "metadata": {},
   "outputs": [
    {
     "data": {
      "text/html": [
       "<div>\n",
       "<style scoped>\n",
       "    .dataframe tbody tr th:only-of-type {\n",
       "        vertical-align: middle;\n",
       "    }\n",
       "\n",
       "    .dataframe tbody tr th {\n",
       "        vertical-align: top;\n",
       "    }\n",
       "\n",
       "    .dataframe thead th {\n",
       "        text-align: right;\n",
       "    }\n",
       "</style>\n",
       "<table border=\"1\" class=\"dataframe\">\n",
       "  <thead>\n",
       "    <tr style=\"text-align: right;\">\n",
       "      <th>Accession</th>\n",
       "      <th>Q5VT66-2</th>\n",
       "      <th>D6RGC4</th>\n",
       "      <th>Q969Z3</th>\n",
       "      <th>Q9NX47</th>\n",
       "      <th>Q9H992</th>\n",
       "      <th>A6NNE9</th>\n",
       "      <th>Q15019-2</th>\n",
       "      <th>C9IY94</th>\n",
       "      <th>Q9UH03-2</th>\n",
       "      <th>Q9UH03</th>\n",
       "      <th>...</th>\n",
       "      <th>Q8TBC5-3</th>\n",
       "      <th>Q96LW9</th>\n",
       "      <th>A7E2V4-2</th>\n",
       "      <th>S4R3B3</th>\n",
       "      <th>O43264</th>\n",
       "      <th>Q9C0D3</th>\n",
       "      <th>Q15942</th>\n",
       "      <th>O43149</th>\n",
       "      <th>O43149-3</th>\n",
       "      <th>Q8IYH5</th>\n",
       "    </tr>\n",
       "  </thead>\n",
       "  <tbody>\n",
       "    <tr>\n",
       "      <td>AD1</td>\n",
       "      <td>1.124580</td>\n",
       "      <td>0.666667</td>\n",
       "      <td>0.948162</td>\n",
       "      <td>1.067472</td>\n",
       "      <td>NaN</td>\n",
       "      <td>NaN</td>\n",
       "      <td>1.076074</td>\n",
       "      <td>1.148094</td>\n",
       "      <td>0.911617</td>\n",
       "      <td>0.0</td>\n",
       "      <td>...</td>\n",
       "      <td>1.454445</td>\n",
       "      <td>0.877273</td>\n",
       "      <td>1.310105</td>\n",
       "      <td>1.524927</td>\n",
       "      <td>0.942656</td>\n",
       "      <td>1.108474</td>\n",
       "      <td>0.844916</td>\n",
       "      <td>1.002873</td>\n",
       "      <td>1.250597</td>\n",
       "      <td>0.0</td>\n",
       "    </tr>\n",
       "    <tr>\n",
       "      <td>AD2</td>\n",
       "      <td>0.881134</td>\n",
       "      <td>0.651515</td>\n",
       "      <td>0.713516</td>\n",
       "      <td>0.932528</td>\n",
       "      <td>NaN</td>\n",
       "      <td>NaN</td>\n",
       "      <td>1.344181</td>\n",
       "      <td>1.336144</td>\n",
       "      <td>0.837435</td>\n",
       "      <td>0.0</td>\n",
       "      <td>...</td>\n",
       "      <td>0.967641</td>\n",
       "      <td>0.759091</td>\n",
       "      <td>1.017422</td>\n",
       "      <td>0.885630</td>\n",
       "      <td>0.930584</td>\n",
       "      <td>0.966762</td>\n",
       "      <td>0.951352</td>\n",
       "      <td>1.005534</td>\n",
       "      <td>1.183771</td>\n",
       "      <td>0.0</td>\n",
       "    </tr>\n",
       "    <tr>\n",
       "      <td>CTL1</td>\n",
       "      <td>0.795806</td>\n",
       "      <td>0.621212</td>\n",
       "      <td>0.675168</td>\n",
       "      <td>0.946626</td>\n",
       "      <td>NaN</td>\n",
       "      <td>NaN</td>\n",
       "      <td>1.027415</td>\n",
       "      <td>1.054985</td>\n",
       "      <td>0.736138</td>\n",
       "      <td>0.0</td>\n",
       "      <td>...</td>\n",
       "      <td>1.012096</td>\n",
       "      <td>0.790909</td>\n",
       "      <td>1.486643</td>\n",
       "      <td>3.300098</td>\n",
       "      <td>0.980885</td>\n",
       "      <td>0.831706</td>\n",
       "      <td>0.622753</td>\n",
       "      <td>1.029573</td>\n",
       "      <td>1.031026</td>\n",
       "      <td>0.0</td>\n",
       "    </tr>\n",
       "    <tr>\n",
       "      <td>CTL2</td>\n",
       "      <td>0.960637</td>\n",
       "      <td>1.181818</td>\n",
       "      <td>1.090438</td>\n",
       "      <td>0.958711</td>\n",
       "      <td>NaN</td>\n",
       "      <td>NaN</td>\n",
       "      <td>0.874709</td>\n",
       "      <td>0.892595</td>\n",
       "      <td>1.033973</td>\n",
       "      <td>0.0</td>\n",
       "      <td>...</td>\n",
       "      <td>1.170908</td>\n",
       "      <td>1.268182</td>\n",
       "      <td>1.094077</td>\n",
       "      <td>0.838710</td>\n",
       "      <td>1.018360</td>\n",
       "      <td>0.990585</td>\n",
       "      <td>1.248980</td>\n",
       "      <td>1.085847</td>\n",
       "      <td>1.183771</td>\n",
       "      <td>0.0</td>\n",
       "    </tr>\n",
       "    <tr>\n",
       "      <td>PD1</td>\n",
       "      <td>1.125191</td>\n",
       "      <td>1.484848</td>\n",
       "      <td>1.186200</td>\n",
       "      <td>1.105740</td>\n",
       "      <td>NaN</td>\n",
       "      <td>NaN</td>\n",
       "      <td>0.854764</td>\n",
       "      <td>0.801320</td>\n",
       "      <td>0.965995</td>\n",
       "      <td>0.0</td>\n",
       "      <td>...</td>\n",
       "      <td>0.556865</td>\n",
       "      <td>5.927273</td>\n",
       "      <td>1.279907</td>\n",
       "      <td>1.090909</td>\n",
       "      <td>1.072435</td>\n",
       "      <td>1.013882</td>\n",
       "      <td>1.336909</td>\n",
       "      <td>0.998395</td>\n",
       "      <td>1.011933</td>\n",
       "      <td>0.0</td>\n",
       "    </tr>\n",
       "  </tbody>\n",
       "</table>\n",
       "<p>5 rows × 10695 columns</p>\n",
       "</div>"
      ],
      "text/plain": [
       "Accession  Q5VT66-2    D6RGC4    Q969Z3    Q9NX47  Q9H992  A6NNE9  Q15019-2  \\\n",
       "AD1        1.124580  0.666667  0.948162  1.067472     NaN     NaN  1.076074   \n",
       "AD2        0.881134  0.651515  0.713516  0.932528     NaN     NaN  1.344181   \n",
       "CTL1       0.795806  0.621212  0.675168  0.946626     NaN     NaN  1.027415   \n",
       "CTL2       0.960637  1.181818  1.090438  0.958711     NaN     NaN  0.874709   \n",
       "PD1        1.125191  1.484848  1.186200  1.105740     NaN     NaN  0.854764   \n",
       "\n",
       "Accession    C9IY94  Q9UH03-2  Q9UH03  ...  Q8TBC5-3    Q96LW9  A7E2V4-2  \\\n",
       "AD1        1.148094  0.911617     0.0  ...  1.454445  0.877273  1.310105   \n",
       "AD2        1.336144  0.837435     0.0  ...  0.967641  0.759091  1.017422   \n",
       "CTL1       1.054985  0.736138     0.0  ...  1.012096  0.790909  1.486643   \n",
       "CTL2       0.892595  1.033973     0.0  ...  1.170908  1.268182  1.094077   \n",
       "PD1        0.801320  0.965995     0.0  ...  0.556865  5.927273  1.279907   \n",
       "\n",
       "Accession    S4R3B3    O43264    Q9C0D3    Q15942    O43149  O43149-3  Q8IYH5  \n",
       "AD1        1.524927  0.942656  1.108474  0.844916  1.002873  1.250597     0.0  \n",
       "AD2        0.885630  0.930584  0.966762  0.951352  1.005534  1.183771     0.0  \n",
       "CTL1       3.300098  0.980885  0.831706  0.622753  1.029573  1.031026     0.0  \n",
       "CTL2       0.838710  1.018360  0.990585  1.248980  1.085847  1.183771     0.0  \n",
       "PD1        1.090909  1.072435  1.013882  1.336909  0.998395  1.011933     0.0  \n",
       "\n",
       "[5 rows x 10695 columns]"
      ]
     },
     "execution_count": 5,
     "metadata": {},
     "output_type": "execute_result"
    }
   ],
   "source": [
    "proteome = pd.read_csv(\"cingulate_.csv\").set_index(\"Accession\")\n",
    "proteome_dict = proteome.loc[:,\"Gene\":\"Description\"]\n",
    "proteome = proteome.loc[:,\"AD1\":\"ADPD10\"].transpose()\n",
    "proteome.head()"
   ]
  },
  {
   "cell_type": "markdown",
   "metadata": {},
   "source": [
    "### 2.1 Investigate missing values\n",
    "\n",
    "A single value of 0 means the protein was identified but not successfully quantified, if the whole batch is 0 it means that one of the GIS (global internal standards) was missing and the measurement is therefore considered unreliable, see sheet \"Key\" in [TMT_Summary_Data.xlsx](https://www.synapse.org/#!Synapse:syn10239444). There are 5 batches of 8 subjects each. In either case we consider them NA."
   ]
  },
  {
   "cell_type": "code",
   "execution_count": 6,
   "metadata": {},
   "outputs": [
    {
     "data": {
      "text/plain": [
       "<matplotlib.axes._subplots.AxesSubplot at 0x7f36cd9dcfd0>"
      ]
     },
     "execution_count": 6,
     "metadata": {},
     "output_type": "execute_result"
    },
    {
     "data": {
      "image/png": "[encoded data removed]",
      "text/plain": [
       "<Figure size 432x288 with 1 Axes>"
      ]
     },
     "metadata": {
      "needs_background": "light"
     },
     "output_type": "display_data"
    }
   ],
   "source": [
    "(proteome.isna() | (proteome == 0)).sum().value_counts().plot.bar()"
   ]
  },
  {
   "cell_type": "markdown",
   "metadata": {},
   "source": [
    "The barplot shows that most proteins with NA values are missing for at least one whole batch (8/16/24/32/40 subjects), so imputation is risky. We try a complete case analysis first, with nearly 60% of all proteins."
   ]
  },
  {
   "cell_type": "code",
   "execution_count": 7,
   "metadata": {},
   "outputs": [
    {
     "data": {
      "text/plain": [
       "0.5825151940158952"
      ]
     },
     "execution_count": 7,
     "metadata": {},
     "output_type": "execute_result"
    }
   ],
   "source": [
    "(proteome>0).all().sum() / proteome.shape[1]"
   ]
  },
  {
   "cell_type": "markdown",
   "metadata": {},
   "source": [
    "### 2.2 Remove proteins with NAs and normalize\n",
    "\n",
    "Normalization to mean 0 and standard deviation 1 per column is important for PCA."
   ]
  },
  {
   "cell_type": "code",
   "execution_count": 8,
   "metadata": {},
   "outputs": [
    {
     "data": {
      "text/html": [
       "<div>\n",
       "<style scoped>\n",
       "    .dataframe tbody tr th:only-of-type {\n",
       "        vertical-align: middle;\n",
       "    }\n",
       "\n",
       "    .dataframe tbody tr th {\n",
       "        vertical-align: top;\n",
       "    }\n",
       "\n",
       "    .dataframe thead th {\n",
       "        text-align: right;\n",
       "    }\n",
       "</style>\n",
       "<table border=\"1\" class=\"dataframe\">\n",
       "  <thead>\n",
       "    <tr style=\"text-align: right;\">\n",
       "      <th>Accession</th>\n",
       "      <th>Q5VT66-2</th>\n",
       "      <th>Q969Z3</th>\n",
       "      <th>Q15019-2</th>\n",
       "      <th>C9IY94</th>\n",
       "      <th>Q9UH03-2</th>\n",
       "      <th>Q99719</th>\n",
       "      <th>G3XAH0</th>\n",
       "      <th>Q14141</th>\n",
       "      <th>Q16181-2</th>\n",
       "      <th>Q16181</th>\n",
       "      <th>...</th>\n",
       "      <th>Q14966</th>\n",
       "      <th>Q9Y5V0</th>\n",
       "      <th>Q8NHG8</th>\n",
       "      <th>O75312</th>\n",
       "      <th>Q8TBC5-3</th>\n",
       "      <th>A7E2V4-2</th>\n",
       "      <th>O43264</th>\n",
       "      <th>Q9C0D3</th>\n",
       "      <th>Q15942</th>\n",
       "      <th>O43149</th>\n",
       "    </tr>\n",
       "  </thead>\n",
       "  <tbody>\n",
       "    <tr>\n",
       "      <td>AD1</td>\n",
       "      <td>1.006041</td>\n",
       "      <td>-0.330660</td>\n",
       "      <td>0.585419</td>\n",
       "      <td>0.814268</td>\n",
       "      <td>-0.931852</td>\n",
       "      <td>-0.891949</td>\n",
       "      <td>-1.172335</td>\n",
       "      <td>-0.301688</td>\n",
       "      <td>0.123567</td>\n",
       "      <td>-1.414264</td>\n",
       "      <td>...</td>\n",
       "      <td>0.498701</td>\n",
       "      <td>-1.136658</td>\n",
       "      <td>-0.355748</td>\n",
       "      <td>-1.654166</td>\n",
       "      <td>2.035214</td>\n",
       "      <td>1.657337</td>\n",
       "      <td>-0.670185</td>\n",
       "      <td>1.475818</td>\n",
       "      <td>-0.876639</td>\n",
       "      <td>0.128153</td>\n",
       "    </tr>\n",
       "    <tr>\n",
       "      <td>AD2</td>\n",
       "      <td>-0.975074</td>\n",
       "      <td>-1.885644</td>\n",
       "      <td>2.600928</td>\n",
       "      <td>1.950324</td>\n",
       "      <td>-1.731064</td>\n",
       "      <td>-0.763846</td>\n",
       "      <td>-1.704209</td>\n",
       "      <td>-1.885033</td>\n",
       "      <td>0.411533</td>\n",
       "      <td>-0.762315</td>\n",
       "      <td>...</td>\n",
       "      <td>0.934354</td>\n",
       "      <td>0.907615</td>\n",
       "      <td>-0.608691</td>\n",
       "      <td>-1.273378</td>\n",
       "      <td>-0.147662</td>\n",
       "      <td>0.146033</td>\n",
       "      <td>-0.872731</td>\n",
       "      <td>-0.271251</td>\n",
       "      <td>-0.308122</td>\n",
       "      <td>0.157057</td>\n",
       "    </tr>\n",
       "    <tr>\n",
       "      <td>CTL1</td>\n",
       "      <td>-1.669458</td>\n",
       "      <td>-2.139778</td>\n",
       "      <td>0.219625</td>\n",
       "      <td>0.251776</td>\n",
       "      <td>-2.822402</td>\n",
       "      <td>-1.984050</td>\n",
       "      <td>-2.551838</td>\n",
       "      <td>-2.368348</td>\n",
       "      <td>-2.718866</td>\n",
       "      <td>-1.922959</td>\n",
       "      <td>...</td>\n",
       "      <td>-1.468940</td>\n",
       "      <td>-0.865875</td>\n",
       "      <td>0.016641</td>\n",
       "      <td>1.134082</td>\n",
       "      <td>0.051678</td>\n",
       "      <td>2.568918</td>\n",
       "      <td>-0.028791</td>\n",
       "      <td>-1.936258</td>\n",
       "      <td>-2.063302</td>\n",
       "      <td>0.418108</td>\n",
       "    </tr>\n",
       "    <tr>\n",
       "      <td>CTL2</td>\n",
       "      <td>-0.328097</td>\n",
       "      <td>0.612196</td>\n",
       "      <td>-0.928350</td>\n",
       "      <td>-0.729263</td>\n",
       "      <td>0.386378</td>\n",
       "      <td>0.742056</td>\n",
       "      <td>0.862101</td>\n",
       "      <td>1.205374</td>\n",
       "      <td>0.812045</td>\n",
       "      <td>0.573740</td>\n",
       "      <td>...</td>\n",
       "      <td>-0.371849</td>\n",
       "      <td>-1.600656</td>\n",
       "      <td>-0.608691</td>\n",
       "      <td>-1.474000</td>\n",
       "      <td>0.763807</td>\n",
       "      <td>0.541851</td>\n",
       "      <td>0.599944</td>\n",
       "      <td>0.022447</td>\n",
       "      <td>1.281627</td>\n",
       "      <td>1.029217</td>\n",
       "    </tr>\n",
       "    <tr>\n",
       "      <td>PD1</td>\n",
       "      <td>1.011008</td>\n",
       "      <td>1.246803</td>\n",
       "      <td>-1.078290</td>\n",
       "      <td>-1.280682</td>\n",
       "      <td>-0.345995</td>\n",
       "      <td>0.056382</td>\n",
       "      <td>0.034887</td>\n",
       "      <td>0.910110</td>\n",
       "      <td>-0.906297</td>\n",
       "      <td>0.063583</td>\n",
       "      <td>...</td>\n",
       "      <td>2.633783</td>\n",
       "      <td>-0.188916</td>\n",
       "      <td>-0.109831</td>\n",
       "      <td>-1.117601</td>\n",
       "      <td>-1.989617</td>\n",
       "      <td>1.501409</td>\n",
       "      <td>1.507179</td>\n",
       "      <td>0.309666</td>\n",
       "      <td>1.751289</td>\n",
       "      <td>0.079521</td>\n",
       "    </tr>\n",
       "  </tbody>\n",
       "</table>\n",
       "<p>5 rows × 6230 columns</p>\n",
       "</div>"
      ],
      "text/plain": [
       "Accession  Q5VT66-2    Q969Z3  Q15019-2    C9IY94  Q9UH03-2    Q99719  \\\n",
       "AD1        1.006041 -0.330660  0.585419  0.814268 -0.931852 -0.891949   \n",
       "AD2       -0.975074 -1.885644  2.600928  1.950324 -1.731064 -0.763846   \n",
       "CTL1      -1.669458 -2.139778  0.219625  0.251776 -2.822402 -1.984050   \n",
       "CTL2      -0.328097  0.612196 -0.928350 -0.729263  0.386378  0.742056   \n",
       "PD1        1.011008  1.246803 -1.078290 -1.280682 -0.345995  0.056382   \n",
       "\n",
       "Accession    G3XAH0    Q14141  Q16181-2    Q16181  ...    Q14966    Q9Y5V0  \\\n",
       "AD1       -1.172335 -0.301688  0.123567 -1.414264  ...  0.498701 -1.136658   \n",
       "AD2       -1.704209 -1.885033  0.411533 -0.762315  ...  0.934354  0.907615   \n",
       "CTL1      -2.551838 -2.368348 -2.718866 -1.922959  ... -1.468940 -0.865875   \n",
       "CTL2       0.862101  1.205374  0.812045  0.573740  ... -0.371849 -1.600656   \n",
       "PD1        0.034887  0.910110 -0.906297  0.063583  ...  2.633783 -0.188916   \n",
       "\n",
       "Accession    Q8NHG8    O75312  Q8TBC5-3  A7E2V4-2    O43264    Q9C0D3  \\\n",
       "AD1       -0.355748 -1.654166  2.035214  1.657337 -0.670185  1.475818   \n",
       "AD2       -0.608691 -1.273378 -0.147662  0.146033 -0.872731 -0.271251   \n",
       "CTL1       0.016641  1.134082  0.051678  2.568918 -0.028791 -1.936258   \n",
       "CTL2      -0.608691 -1.474000  0.763807  0.541851  0.599944  0.022447   \n",
       "PD1       -0.109831 -1.117601 -1.989617  1.501409  1.507179  0.309666   \n",
       "\n",
       "Accession    Q15942    O43149  \n",
       "AD1       -0.876639  0.128153  \n",
       "AD2       -0.308122  0.157057  \n",
       "CTL1      -2.063302  0.418108  \n",
       "CTL2       1.281627  1.029217  \n",
       "PD1        1.751289  0.079521  \n",
       "\n",
       "[5 rows x 6230 columns]"
      ]
     },
     "execution_count": 8,
     "metadata": {},
     "output_type": "execute_result"
    }
   ],
   "source": [
    "proteome = proteome.loc[:, (proteome>0).all()]\n",
    "proteome = (proteome - proteome.mean()) / proteome.std()\n",
    "proteome.head()"
   ]
  },
  {
   "cell_type": "markdown",
   "metadata": {},
   "source": [
    "Distributions look more or less normal, don't seem to need log-transformation."
   ]
  },
  {
   "cell_type": "code",
   "execution_count": 9,
   "metadata": {},
   "outputs": [
    {
     "data": {
      "text/plain": [
       "array([[<matplotlib.axes._subplots.AxesSubplot object at 0x7f36cd9dc710>,\n",
       "        <matplotlib.axes._subplots.AxesSubplot object at 0x7f36cdd6e0f0>,\n",
       "        <matplotlib.axes._subplots.AxesSubplot object at 0x7f36cde29eb8>,\n",
       "        <matplotlib.axes._subplots.AxesSubplot object at 0x7f36cdf459b0>],\n",
       "       [<matplotlib.axes._subplots.AxesSubplot object at 0x7f36cddfa1d0>,\n",
       "        <matplotlib.axes._subplots.AxesSubplot object at 0x7f36cde0f5c0>,\n",
       "        <matplotlib.axes._subplots.AxesSubplot object at 0x7f36cdecf668>,\n",
       "        <matplotlib.axes._subplots.AxesSubplot object at 0x7f36cdd3bcc0>],\n",
       "       [<matplotlib.axes._subplots.AxesSubplot object at 0x7f36cdd3b0f0>,\n",
       "        <matplotlib.axes._subplots.AxesSubplot object at 0x7f36cc2e5278>,\n",
       "        <matplotlib.axes._subplots.AxesSubplot object at 0x7f36cd9293c8>,\n",
       "        <matplotlib.axes._subplots.AxesSubplot object at 0x7f36badaa518>],\n",
       "       [<matplotlib.axes._subplots.AxesSubplot object at 0x7f36cccfc668>,\n",
       "        <matplotlib.axes._subplots.AxesSubplot object at 0x7f36ccb5c7b8>,\n",
       "        <matplotlib.axes._subplots.AxesSubplot object at 0x7f36cdab2908>,\n",
       "        <matplotlib.axes._subplots.AxesSubplot object at 0x7f36cd9b3a58>]],\n",
       "      dtype=object)"
      ]
     },
     "execution_count": 9,
     "metadata": {},
     "output_type": "execute_result"
    },
    {
     "data": {
      "image/png": "[encoded data removed]",
      "text/plain": [
       "<Figure size 432x288 with 16 Axes>"
      ]
     },
     "metadata": {
      "needs_background": "light"
     },
     "output_type": "display_data"
    }
   ],
   "source": [
    "proteome.iloc[:,0:16].hist()"
   ]
  },
  {
   "cell_type": "markdown",
   "metadata": {},
   "source": [
    "## 3. Dimensionality reduction\n",
    "\n",
    "### 3.1 Principal component analysis\n",
    "\n",
    "The first PCA component of the cingulate proteome explains 22.3% of the variance and the second component 13.4%."
   ]
  },
  {
   "cell_type": "code",
   "execution_count": 10,
   "metadata": {},
   "outputs": [
    {
     "name": "stdout",
     "output_type": "stream",
     "text": [
      "[0.18717674 0.10779146]\n"
     ]
    },
    {
     "data": {
      "text/plain": [
       "<matplotlib.axes._subplots.AxesSubplot at 0x7f36cdeb9128>"
      ]
     },
     "execution_count": 10,
     "metadata": {},
     "output_type": "execute_result"
    },
    {
     "data": {
      "image/png": "[encoded data removed]",
      "text/plain": [
       "<Figure size 432x288 with 1 Axes>"
      ]
     },
     "metadata": {
      "needs_background": "light"
     },
     "output_type": "display_data"
    }
   ],
   "source": [
    "pca_model = PCA()\n",
    "pca = pca_model.fit_transform(proteome)[:,0:2]\n",
    "print(pca_model.explained_variance_ratio_[0:2])\n",
    "pd.Series(np.cumsum(pca_model.explained_variance_ratio_)).plot()"
   ]
  },
  {
   "cell_type": "markdown",
   "metadata": {},
   "source": [
    "In the PCA plot we can already see that AD+ADPD cluster more to the right whereas Control+PD cluster more to the left. However, these two components only capture roughly 30% of the variance in the data, let's see if UMAP produces a different result."
   ]
  },
  {
   "cell_type": "code",
   "execution_count": 11,
   "metadata": {},
   "outputs": [
    {
     "data": {
      "text/plain": [
       "<matplotlib.axes._subplots.AxesSubplot at 0x7f36cdb97c50>"
      ]
     },
     "execution_count": 11,
     "metadata": {},
     "output_type": "execute_result"
    },
    {
     "data": {
      "image/png": "[encoded data removed]",
      "text/plain": [
       "<Figure size 432x288 with 1 Axes>"
      ]
     },
     "metadata": {
      "needs_background": "light"
     },
     "output_type": "display_data"
    }
   ],
   "source": [
    "# can't color categorically with pandas alone, so use seaborn\n",
    "#pd.DataFrame(pca, columns=[\"PC1\", \"PC2\"]).plot.scatter(x=\"PC1\", y=\"PC2\")\n",
    "sns.scatterplot(\"PC1\", \"PC2\", data=pd.DataFrame(pca, columns=[\"PC1\", \"PC2\"]),\n",
    "                hue=samples.Condition)"
   ]
  },
  {
   "cell_type": "markdown",
   "metadata": {},
   "source": [
    "### 3.2. UMAP\n",
    "\n",
    "UMAP is a modern dimensionality reduction technique similar to t-SNE, able to shrink all of the data to two components. See more details here: https://github.com/lmcinnes/umap\n",
    "\n",
    "Again, we can already appreciate that AD+ADPD seem to cluster together (top-right) whereas Control+PD seem to be clustered more in the bottom-left."
   ]
  },
  {
   "cell_type": "code",
   "execution_count": 12,
   "metadata": {},
   "outputs": [
    {
     "data": {
      "text/plain": [
       "<matplotlib.axes._subplots.AxesSubplot at 0x7f36ba504da0>"
      ]
     },
     "execution_count": 12,
     "metadata": {},
     "output_type": "execute_result"
    },
    {
     "data": {
      "image/png": "[encoded data removed]",
      "text/plain": [
       "<Figure size 432x288 with 1 Axes>"
      ]
     },
     "metadata": {
      "needs_background": "light"
     },
     "output_type": "display_data"
    }
   ],
   "source": [
    "embedding = umap.UMAP().fit_transform(proteome)\n",
    "sns.scatterplot(\"UMAP 1\", \"UMAP 2\", data=pd.DataFrame(embedding, columns=[\"UMAP 1\", \"UMAP 2\"]),\n",
    "                hue=samples.Condition)"
   ]
  },
  {
   "cell_type": "markdown",
   "metadata": {},
   "source": [
    "### 3.3. Partial least squares\n",
    "\n",
    "PLS can be considered both a dimensionality reduction method and a supervised learning algorithm. Whereas PCA & UMAP are agnostic of the outcome variable, PLS is fitting components to maximize variance not just in the input space X (proteome) but also in the outcome space Y, which is a 40x4 binary (dummy) matrix representing Controls, AD, PD & ADPD.\n",
    "\n",
    "So this plot shows fairly good separability of the four classes when trained on the outcome data but we see that Alzheimer's (AD/ADPD) separates better from controls than does Parkinson's only (PD)."
   ]
  },
  {
   "cell_type": "code",
   "execution_count": 13,
   "metadata": {},
   "outputs": [
    {
     "data": {
      "text/plain": [
       "<matplotlib.axes._subplots.AxesSubplot at 0x7f36bab439e8>"
      ]
     },
     "execution_count": 13,
     "metadata": {},
     "output_type": "execute_result"
    },
    {
     "data": {
      "image/png": "[encoded data removed]",
      "text/plain": [
       "<Figure size 432x288 with 1 Axes>"
      ]
     },
     "metadata": {
      "needs_background": "light"
     },
     "output_type": "display_data"
    }
   ],
   "source": [
    "pls = PLSRegression(n_components=2).fit(proteome, pd.get_dummies(samples.Condition))\n",
    "sns.scatterplot(\"PLS 1\", \"PLS 2\", data=pd.DataFrame(pls.x_scores_, columns=[\"PLS 1\", \"PLS 2\"]),\n",
    "                hue=samples.Condition)"
   ]
  },
  {
   "cell_type": "markdown",
   "metadata": {},
   "source": [
    "## 4. Univariate analysis\n",
    "\n",
    "This can be considered a \"PWAS\", a Proteome Wide Association Study\". There are two ways of modelling this: Linear Regression and Logistic Regression\n",
    "\n",
    "### 4.1 Multiple univariate linear regression\n",
    "\n",
    "Every protein-quantity is tested as dependent variable against the two binary phenotypes Alzheimer's (including AD and ADPD patients) and Parkinson's (including PD and ADPD patients) in two separate univariate models. Results are saved to AD_univariate_linreg.csv and PD_univariate_linreg.csv"
   ]
  },
  {
   "cell_type": "code",
   "execution_count": 14,
   "metadata": {},
   "outputs": [],
   "source": [
    "AD = np.array([1,1,0,0,0,0,1,1]*5) # AD, ADPD: True; Control, PD: False\n",
    "PD = np.array([0,0,0,0,1,1,1,1]*5) # PD, ADPD: True; Control, AD: False\n",
    "\n",
    "ADuniv = proteome_dict.loc[proteome.columns,:\"Gene\"]\n",
    "PDuniv = proteome_dict.loc[proteome.columns,:\"Gene\"]\n",
    "for protein in proteome.columns:\n",
    "    lr = smf.ols(\"Q('\" + protein + \"') ~ AD\", data=proteome).fit()\n",
    "    ADuniv.loc[protein, \"coef\"] = lr.params[1]\n",
    "    ADuniv.loc[protein, \"pval\"] = lr.pvalues[1]\n",
    "    lr = smf.ols(\"Q('\" + protein + \"') ~ PD\", data=proteome).fit()\n",
    "    PDuniv.loc[protein, \"coef\"] = lr.params[1]\n",
    "    PDuniv.loc[protein, \"pval\"] = lr.pvalues[1]\n",
    "\n",
    "# Sort outcome by p-value\n",
    "ADuniv = ADuniv.sort_values(\"pval\")\n",
    "PDuniv = PDuniv.sort_values(\"pval\")\n",
    "\n",
    "ADuniv.to_csv(\"AD_univariate_linreg.csv\")\n",
    "PDuniv.to_csv(\"PD_univariate_linreg.csv\")"
   ]
  },
  {
   "cell_type": "code",
   "execution_count": 15,
   "metadata": {},
   "outputs": [
    {
     "data": {
      "text/html": [
       "<div>\n",
       "<style scoped>\n",
       "    .dataframe tbody tr th:only-of-type {\n",
       "        vertical-align: middle;\n",
       "    }\n",
       "\n",
       "    .dataframe tbody tr th {\n",
       "        vertical-align: top;\n",
       "    }\n",
       "\n",
       "    .dataframe thead th {\n",
       "        text-align: right;\n",
       "    }\n",
       "</style>\n",
       "<table border=\"1\" class=\"dataframe\">\n",
       "  <thead>\n",
       "    <tr style=\"text-align: right;\">\n",
       "      <th></th>\n",
       "      <th>Gene</th>\n",
       "      <th>coef</th>\n",
       "      <th>pval</th>\n",
       "    </tr>\n",
       "    <tr>\n",
       "      <th>Accession</th>\n",
       "      <th></th>\n",
       "      <th></th>\n",
       "      <th></th>\n",
       "    </tr>\n",
       "  </thead>\n",
       "  <tbody>\n",
       "    <tr>\n",
       "      <td>Q9H4F8-2</td>\n",
       "      <td>SMOC1</td>\n",
       "      <td>1.802782</td>\n",
       "      <td>2.298555e-16</td>\n",
       "    </tr>\n",
       "    <tr>\n",
       "      <td>E9PLM6</td>\n",
       "      <td>MDK</td>\n",
       "      <td>1.663440</td>\n",
       "      <td>9.533849e-12</td>\n",
       "    </tr>\n",
       "    <tr>\n",
       "      <td>P05067</td>\n",
       "      <td>APP</td>\n",
       "      <td>1.625795</td>\n",
       "      <td>6.988686e-11</td>\n",
       "    </tr>\n",
       "    <tr>\n",
       "      <td>A0A087WWT2</td>\n",
       "      <td>NRN1</td>\n",
       "      <td>-1.583374</td>\n",
       "      <td>5.054728e-10</td>\n",
       "    </tr>\n",
       "    <tr>\n",
       "      <td>Q99784</td>\n",
       "      <td>OLFM1</td>\n",
       "      <td>-1.546295</td>\n",
       "      <td>2.363332e-09</td>\n",
       "    </tr>\n",
       "    <tr>\n",
       "      <td>Q8NAA5</td>\n",
       "      <td>LRRC75A</td>\n",
       "      <td>-1.540159</td>\n",
       "      <td>3.006388e-09</td>\n",
       "    </tr>\n",
       "    <tr>\n",
       "      <td>Q96NI6</td>\n",
       "      <td>LRFN5</td>\n",
       "      <td>-1.529536</td>\n",
       "      <td>4.519406e-09</td>\n",
       "    </tr>\n",
       "    <tr>\n",
       "      <td>Q14571</td>\n",
       "      <td>ITPR2</td>\n",
       "      <td>1.509881</td>\n",
       "      <td>9.337636e-09</td>\n",
       "    </tr>\n",
       "    <tr>\n",
       "      <td>Q96CG8</td>\n",
       "      <td>CTHRC1</td>\n",
       "      <td>1.506727</td>\n",
       "      <td>1.045667e-08</td>\n",
       "    </tr>\n",
       "    <tr>\n",
       "      <td>Q13490</td>\n",
       "      <td>BIRC2</td>\n",
       "      <td>-1.504626</td>\n",
       "      <td>1.126973e-08</td>\n",
       "    </tr>\n",
       "    <tr>\n",
       "      <td>O75116</td>\n",
       "      <td>ROCK2</td>\n",
       "      <td>-1.498640</td>\n",
       "      <td>1.392172e-08</td>\n",
       "    </tr>\n",
       "    <tr>\n",
       "      <td>A6NHX0</td>\n",
       "      <td>GATSL2</td>\n",
       "      <td>-1.495699</td>\n",
       "      <td>1.542738e-08</td>\n",
       "    </tr>\n",
       "    <tr>\n",
       "      <td>P41240</td>\n",
       "      <td>CSK</td>\n",
       "      <td>1.495476</td>\n",
       "      <td>1.554758e-08</td>\n",
       "    </tr>\n",
       "    <tr>\n",
       "      <td>P01111</td>\n",
       "      <td>NRAS</td>\n",
       "      <td>-1.492218</td>\n",
       "      <td>1.740487e-08</td>\n",
       "    </tr>\n",
       "    <tr>\n",
       "      <td>P31431</td>\n",
       "      <td>SDC4</td>\n",
       "      <td>1.490926</td>\n",
       "      <td>1.819681e-08</td>\n",
       "    </tr>\n",
       "    <tr>\n",
       "      <td>Q15223</td>\n",
       "      <td>PVRL1</td>\n",
       "      <td>-1.480379</td>\n",
       "      <td>2.603719e-08</td>\n",
       "    </tr>\n",
       "    <tr>\n",
       "      <td>H3BS89</td>\n",
       "      <td>TMEM178B</td>\n",
       "      <td>-1.462102</td>\n",
       "      <td>4.745540e-08</td>\n",
       "    </tr>\n",
       "    <tr>\n",
       "      <td>F2Z2J1</td>\n",
       "      <td>RPS6KA2</td>\n",
       "      <td>1.459791</td>\n",
       "      <td>5.110624e-08</td>\n",
       "    </tr>\n",
       "    <tr>\n",
       "      <td>Q93009</td>\n",
       "      <td>USP7</td>\n",
       "      <td>-1.457857</td>\n",
       "      <td>5.436078e-08</td>\n",
       "    </tr>\n",
       "    <tr>\n",
       "      <td>Q15435</td>\n",
       "      <td>PPP1R7</td>\n",
       "      <td>-1.457113</td>\n",
       "      <td>5.566268e-08</td>\n",
       "    </tr>\n",
       "  </tbody>\n",
       "</table>\n",
       "</div>"
      ],
      "text/plain": [
       "                Gene      coef          pval\n",
       "Accession                                   \n",
       "Q9H4F8-2       SMOC1  1.802782  2.298555e-16\n",
       "E9PLM6           MDK  1.663440  9.533849e-12\n",
       "P05067           APP  1.625795  6.988686e-11\n",
       "A0A087WWT2      NRN1 -1.583374  5.054728e-10\n",
       "Q99784         OLFM1 -1.546295  2.363332e-09\n",
       "Q8NAA5       LRRC75A -1.540159  3.006388e-09\n",
       "Q96NI6         LRFN5 -1.529536  4.519406e-09\n",
       "Q14571         ITPR2  1.509881  9.337636e-09\n",
       "Q96CG8        CTHRC1  1.506727  1.045667e-08\n",
       "Q13490         BIRC2 -1.504626  1.126973e-08\n",
       "O75116         ROCK2 -1.498640  1.392172e-08\n",
       "A6NHX0        GATSL2 -1.495699  1.542738e-08\n",
       "P41240           CSK  1.495476  1.554758e-08\n",
       "P01111          NRAS -1.492218  1.740487e-08\n",
       "P31431          SDC4  1.490926  1.819681e-08\n",
       "Q15223         PVRL1 -1.480379  2.603719e-08\n",
       "H3BS89      TMEM178B -1.462102  4.745540e-08\n",
       "F2Z2J1       RPS6KA2  1.459791  5.110624e-08\n",
       "Q93009          USP7 -1.457857  5.436078e-08\n",
       "Q15435        PPP1R7 -1.457113  5.566268e-08"
      ]
     },
     "execution_count": 15,
     "metadata": {},
     "output_type": "execute_result"
    }
   ],
   "source": [
    "ADuniv.head(20)"
   ]
  },
  {
   "cell_type": "markdown",
   "metadata": {},
   "source": [
    "#### 4.1.1 Significance tests and volcano plot\n",
    "\n",
    "132 proteins are significant after Bonferroni correction, and an additional 1491 after FDR correction. The volcano plot looks U-shaped because the input matrix is normalized to mean 0 and std 1. See [2_compare_univariate_results.ipynb](2_compare_univariate_results.ipynb) and [2_compare_univariate_results.html](2_compare_univariate_results.html) for interactive volcano plots."
   ]
  },
  {
   "cell_type": "code",
   "execution_count": 16,
   "metadata": {},
   "outputs": [
    {
     "data": {
      "text/plain": [
       "False         4607\n",
       "FDR           1491\n",
       "Bonferroni     132\n",
       "Name: Significant, dtype: int64"
      ]
     },
     "execution_count": 16,
     "metadata": {},
     "output_type": "execute_result"
    }
   ],
   "source": [
    "ADuniv[\"Significant\"] = \"False\"\n",
    "ADuniv.loc[smm.multipletests(ADuniv.pval, method=\"fdr_bh\")[0], \"Significant\"] = \"FDR\"\n",
    "ADuniv.loc[smm.multipletests(ADuniv.pval, method=\"bonferroni\")[0], \"Significant\"] = \"Bonferroni\"\n",
    "ADuniv.loc[:,\"Significant\"].value_counts()"
   ]
  },
  {
   "cell_type": "code",
   "execution_count": 17,
   "metadata": {},
   "outputs": [
    {
     "data": {
      "text/plain": [
       "<matplotlib.axes._subplots.AxesSubplot at 0x7f36bacf6278>"
      ]
     },
     "execution_count": 17,
     "metadata": {},
     "output_type": "execute_result"
    },
    {
     "data": {
      "image/png": "[encoded data removed]",
      "text/plain": [
       "<Figure size 432x288 with 1 Axes>"
      ]
     },
     "metadata": {
      "needs_background": "light"
     },
     "output_type": "display_data"
    }
   ],
   "source": [
    "sns.scatterplot(ADuniv.coef, -np.log10(ADuniv.pval), hue=ADuniv[\"Significant\"], edgecolor=\"none\", alpha=0.3)"
   ]
  },
  {
   "cell_type": "markdown",
   "metadata": {},
   "source": [
    "#### 4.1.2 Biological interpretation\n",
    "\n",
    "Among the Bonferroni significant top hits are two of Alzheimer's Disease hallmark proteins:\n",
    "\n",
    "* [Amyloid beta](https://en.wikipedia.org/wiki/Amyloid_beta), encoded by the gene APP, UniProt ID [P05067](https://www.uniprot.org/uniprot/P05067)\n",
    "* [Tau protein](https://en.wikipedia.org/wiki/Amyloid_beta), encoded by the gene MAPT, UniProt ID [P10636](https://www.uniprot.org/uniprot/P10636)\n",
    "\n",
    "Another hallmark protein is not significant, probably because only its NAC fragment is associated with Alzheimer's:\n",
    "\n",
    "* [Alpha synucelin](https://en.wikipedia.org/wiki/Alpha-synuclein), encoded by gene SNCA, UniProt ID [P37840](https://www.uniprot.org/uniprot/P37840)\n",
    "\n",
    "The most significant protein however, encoded by the [SMOC1 gene, has only recently been associated with Alzheimer's in a proteomic analysis of cerebrospinal fluid](https://alzres.biomedcentral.com/articles/10.1186/s13195-018-0397-4):\n",
    "\n",
    "* SPARC-related modular calcium-binding protein 1, encoded by SMOC1 gene, UniProt ID [Q9H4F8-2](https://www.uniprot.org/uniprot/Q9H4F8-2)"
   ]
  },
  {
   "cell_type": "code",
   "execution_count": 18,
   "metadata": {},
   "outputs": [
    {
     "data": {
      "text/html": [
       "<div>\n",
       "<style scoped>\n",
       "    .dataframe tbody tr th:only-of-type {\n",
       "        vertical-align: middle;\n",
       "    }\n",
       "\n",
       "    .dataframe tbody tr th {\n",
       "        vertical-align: top;\n",
       "    }\n",
       "\n",
       "    .dataframe thead th {\n",
       "        text-align: right;\n",
       "    }\n",
       "</style>\n",
       "<table border=\"1\" class=\"dataframe\">\n",
       "  <thead>\n",
       "    <tr style=\"text-align: right;\">\n",
       "      <th></th>\n",
       "      <th>Gene</th>\n",
       "      <th>coef</th>\n",
       "      <th>pval</th>\n",
       "      <th>Significant</th>\n",
       "    </tr>\n",
       "    <tr>\n",
       "      <th>Accession</th>\n",
       "      <th></th>\n",
       "      <th></th>\n",
       "      <th></th>\n",
       "      <th></th>\n",
       "    </tr>\n",
       "  </thead>\n",
       "  <tbody>\n",
       "    <tr>\n",
       "      <td>Q9H4F8-2</td>\n",
       "      <td>SMOC1</td>\n",
       "      <td>1.802782</td>\n",
       "      <td>2.298555e-16</td>\n",
       "      <td>Bonferroni</td>\n",
       "    </tr>\n",
       "    <tr>\n",
       "      <td>P05067</td>\n",
       "      <td>APP</td>\n",
       "      <td>1.625795</td>\n",
       "      <td>6.988686e-11</td>\n",
       "      <td>Bonferroni</td>\n",
       "    </tr>\n",
       "    <tr>\n",
       "      <td>P10636</td>\n",
       "      <td>MAPT</td>\n",
       "      <td>1.379071</td>\n",
       "      <td>5.446650e-07</td>\n",
       "      <td>Bonferroni</td>\n",
       "    </tr>\n",
       "    <tr>\n",
       "      <td>P37840</td>\n",
       "      <td>SNCA</td>\n",
       "      <td>-0.408184</td>\n",
       "      <td>2.006676e-01</td>\n",
       "      <td>False</td>\n",
       "    </tr>\n",
       "  </tbody>\n",
       "</table>\n",
       "</div>"
      ],
      "text/plain": [
       "            Gene      coef          pval Significant\n",
       "Accession                                           \n",
       "Q9H4F8-2   SMOC1  1.802782  2.298555e-16  Bonferroni\n",
       "P05067       APP  1.625795  6.988686e-11  Bonferroni\n",
       "P10636      MAPT  1.379071  5.446650e-07  Bonferroni\n",
       "P37840      SNCA -0.408184  2.006676e-01       False"
      ]
     },
     "execution_count": 18,
     "metadata": {},
     "output_type": "execute_result"
    }
   ],
   "source": [
    "ADuniv.loc[(\"Q9H4F8-2\", \"P05067\", \"P10636\", \"P37840\"),:]"
   ]
  },
  {
   "cell_type": "markdown",
   "metadata": {},
   "source": [
    "### 4.2 Multiple univariate logistic regression\n",
    "\n",
    "For performing logistic regression, we need a binary dependent variable. Thus, this time we use AD / PD status as dependent (outcome) variable and protein-quantity as independent (input) variable in two separate univariate models per protein."
   ]
  },
  {
   "cell_type": "code",
   "execution_count": 19,
   "metadata": {},
   "outputs": [],
   "source": [
    "ADuniv_log = proteome_dict.loc[proteome.columns,:\"Gene\"]\n",
    "PDuniv_log = proteome_dict.loc[proteome.columns,:\"Gene\"]\n",
    "\n",
    "for protein in proteome.columns:\n",
    "#protein = proteome.columns[1]\n",
    "    AD_logit = smf.logit(\"AD ~ Q('\" + protein + \"')\", data=proteome).fit(disp=False, method='lbfgs')\n",
    "    PD_logit = smf.logit(\"PD ~ Q('\" + protein + \"')\", data=proteome).fit(disp=False, method='lbfgs')\n",
    "    ADuniv_log.loc[protein, \"coef\"] = AD_logit.params[1]\n",
    "    PDuniv_log.loc[protein, \"coef\"] = PD_logit.params[1]\n",
    "    ADuniv_log.loc[protein, \"pval\"] = AD_logit.pvalues[1]\n",
    "    PDuniv_log.loc[protein, \"pval\"] = PD_logit.pvalues[1]\n",
    "\n",
    "# Sort outcome by p-value\n",
    "ADuniv_log = ADuniv_log.sort_values(\"pval\")\n",
    "PDuniv_log = PDuniv_log.sort_values(\"pval\")\n",
    "\n",
    "ADuniv_log.to_csv(\"AD_univariate_logreg.csv\")\n",
    "PDuniv_log.to_csv(\"PD_univariate_logreg.csv\")"
   ]
  },
  {
   "cell_type": "code",
   "execution_count": 20,
   "metadata": {},
   "outputs": [
    {
     "data": {
      "text/html": [
       "<div>\n",
       "<style scoped>\n",
       "    .dataframe tbody tr th:only-of-type {\n",
       "        vertical-align: middle;\n",
       "    }\n",
       "\n",
       "    .dataframe tbody tr th {\n",
       "        vertical-align: top;\n",
       "    }\n",
       "\n",
       "    .dataframe thead th {\n",
       "        text-align: right;\n",
       "    }\n",
       "</style>\n",
       "<table border=\"1\" class=\"dataframe\">\n",
       "  <thead>\n",
       "    <tr style=\"text-align: right;\">\n",
       "      <th></th>\n",
       "      <th>Gene</th>\n",
       "      <th>coef</th>\n",
       "      <th>pval</th>\n",
       "    </tr>\n",
       "    <tr>\n",
       "      <th>Accession</th>\n",
       "      <th></th>\n",
       "      <th></th>\n",
       "      <th></th>\n",
       "    </tr>\n",
       "  </thead>\n",
       "  <tbody>\n",
       "    <tr>\n",
       "      <td>P05067</td>\n",
       "      <td>APP</td>\n",
       "      <td>3.675193</td>\n",
       "      <td>0.000359</td>\n",
       "    </tr>\n",
       "    <tr>\n",
       "      <td>Q9H2M9</td>\n",
       "      <td>RAB3GAP2</td>\n",
       "      <td>-2.282264</td>\n",
       "      <td>0.000484</td>\n",
       "    </tr>\n",
       "    <tr>\n",
       "      <td>Q8IV01</td>\n",
       "      <td>SYT12</td>\n",
       "      <td>-2.174953</td>\n",
       "      <td>0.000493</td>\n",
       "    </tr>\n",
       "    <tr>\n",
       "      <td>O75116</td>\n",
       "      <td>ROCK2</td>\n",
       "      <td>-3.147778</td>\n",
       "      <td>0.000508</td>\n",
       "    </tr>\n",
       "    <tr>\n",
       "      <td>Q9ULR3</td>\n",
       "      <td>PPM1H</td>\n",
       "      <td>-2.247118</td>\n",
       "      <td>0.000516</td>\n",
       "    </tr>\n",
       "    <tr>\n",
       "      <td>P01111</td>\n",
       "      <td>NRAS</td>\n",
       "      <td>-2.754446</td>\n",
       "      <td>0.000543</td>\n",
       "    </tr>\n",
       "    <tr>\n",
       "      <td>Q96HS1</td>\n",
       "      <td>PGAM5</td>\n",
       "      <td>-2.003476</td>\n",
       "      <td>0.000549</td>\n",
       "    </tr>\n",
       "    <tr>\n",
       "      <td>Q15819</td>\n",
       "      <td>UBE2V2</td>\n",
       "      <td>-2.676874</td>\n",
       "      <td>0.000554</td>\n",
       "    </tr>\n",
       "    <tr>\n",
       "      <td>P40121</td>\n",
       "      <td>CAPG</td>\n",
       "      <td>2.170653</td>\n",
       "      <td>0.000554</td>\n",
       "    </tr>\n",
       "    <tr>\n",
       "      <td>Q9UL15-2</td>\n",
       "      <td>BAG5</td>\n",
       "      <td>-2.199955</td>\n",
       "      <td>0.000606</td>\n",
       "    </tr>\n",
       "    <tr>\n",
       "      <td>O75078</td>\n",
       "      <td>ADAM11</td>\n",
       "      <td>-2.423617</td>\n",
       "      <td>0.000640</td>\n",
       "    </tr>\n",
       "    <tr>\n",
       "      <td>Q14956</td>\n",
       "      <td>GPNMB</td>\n",
       "      <td>3.681369</td>\n",
       "      <td>0.000640</td>\n",
       "    </tr>\n",
       "    <tr>\n",
       "      <td>Q15223</td>\n",
       "      <td>PVRL1</td>\n",
       "      <td>-3.788955</td>\n",
       "      <td>0.000653</td>\n",
       "    </tr>\n",
       "    <tr>\n",
       "      <td>P45985-2</td>\n",
       "      <td>MAP2K4</td>\n",
       "      <td>-2.068731</td>\n",
       "      <td>0.000654</td>\n",
       "    </tr>\n",
       "    <tr>\n",
       "      <td>Q8TDC3-2</td>\n",
       "      <td>BRSK1</td>\n",
       "      <td>-2.069654</td>\n",
       "      <td>0.000691</td>\n",
       "    </tr>\n",
       "    <tr>\n",
       "      <td>P21796</td>\n",
       "      <td>VDAC1</td>\n",
       "      <td>-2.545471</td>\n",
       "      <td>0.000696</td>\n",
       "    </tr>\n",
       "    <tr>\n",
       "      <td>Q8TDX7</td>\n",
       "      <td>NEK7</td>\n",
       "      <td>2.417459</td>\n",
       "      <td>0.000711</td>\n",
       "    </tr>\n",
       "    <tr>\n",
       "      <td>Q9UPR0</td>\n",
       "      <td>PLCL2</td>\n",
       "      <td>-2.561240</td>\n",
       "      <td>0.000716</td>\n",
       "    </tr>\n",
       "    <tr>\n",
       "      <td>J3QRU1</td>\n",
       "      <td>YES1</td>\n",
       "      <td>2.009870</td>\n",
       "      <td>0.000737</td>\n",
       "    </tr>\n",
       "    <tr>\n",
       "      <td>P10586</td>\n",
       "      <td>PTPRF</td>\n",
       "      <td>-2.305175</td>\n",
       "      <td>0.000760</td>\n",
       "    </tr>\n",
       "  </tbody>\n",
       "</table>\n",
       "</div>"
      ],
      "text/plain": [
       "               Gene      coef      pval\n",
       "Accession                              \n",
       "P05067          APP  3.675193  0.000359\n",
       "Q9H2M9     RAB3GAP2 -2.282264  0.000484\n",
       "Q8IV01        SYT12 -2.174953  0.000493\n",
       "O75116        ROCK2 -3.147778  0.000508\n",
       "Q9ULR3        PPM1H -2.247118  0.000516\n",
       "P01111         NRAS -2.754446  0.000543\n",
       "Q96HS1        PGAM5 -2.003476  0.000549\n",
       "Q15819       UBE2V2 -2.676874  0.000554\n",
       "P40121         CAPG  2.170653  0.000554\n",
       "Q9UL15-2       BAG5 -2.199955  0.000606\n",
       "O75078       ADAM11 -2.423617  0.000640\n",
       "Q14956        GPNMB  3.681369  0.000640\n",
       "Q15223        PVRL1 -3.788955  0.000653\n",
       "P45985-2     MAP2K4 -2.068731  0.000654\n",
       "Q8TDC3-2      BRSK1 -2.069654  0.000691\n",
       "P21796        VDAC1 -2.545471  0.000696\n",
       "Q8TDX7         NEK7  2.417459  0.000711\n",
       "Q9UPR0        PLCL2 -2.561240  0.000716\n",
       "J3QRU1         YES1  2.009870  0.000737\n",
       "P10586        PTPRF -2.305175  0.000760"
      ]
     },
     "execution_count": 20,
     "metadata": {},
     "output_type": "execute_result"
    }
   ],
   "source": [
    "ADuniv_log.head(20)"
   ]
  },
  {
   "cell_type": "markdown",
   "metadata": {},
   "source": [
    "#### 4.2.1 Significance tests and volcano plot\n",
    "\n",
    "No proteins are significant after Bonferroni correction, but 1016 after FDR correction. See [2_compare_univariate_results.ipynb](2_compare_univariate_results.ipynb) and [2_compare_univariate_results.html](2_compare_univariate_results.html) for interactive volcano plots."
   ]
  },
  {
   "cell_type": "code",
   "execution_count": 21,
   "metadata": {},
   "outputs": [
    {
     "data": {
      "text/plain": [
       "False    5214\n",
       "FDR      1016\n",
       "Name: Significant, dtype: int64"
      ]
     },
     "execution_count": 21,
     "metadata": {},
     "output_type": "execute_result"
    }
   ],
   "source": [
    "ADuniv_log[\"Significant\"] = \"False\"\n",
    "ADuniv_log.loc[smm.multipletests(ADuniv_log.pval, method=\"fdr_bh\")[0], \"Significant\"] = \"FDR\"\n",
    "ADuniv_log.loc[smm.multipletests(ADuniv_log.pval, method=\"bonferroni\")[0], \"Significant\"] = \"Bonferroni\"\n",
    "ADuniv_log.loc[:,\"Significant\"].value_counts()"
   ]
  },
  {
   "cell_type": "code",
   "execution_count": 22,
   "metadata": {},
   "outputs": [
    {
     "data": {
      "text/plain": [
       "[(-10, 10)]"
      ]
     },
     "execution_count": 22,
     "metadata": {},
     "output_type": "execute_result"
    },
    {
     "data": {
      "image/png": "[encoded data removed]",
      "text/plain": [
       "<Figure size 432x288 with 1 Axes>"
      ]
     },
     "metadata": {
      "needs_background": "light"
     },
     "output_type": "display_data"
    }
   ],
   "source": [
    "sns.scatterplot(ADuniv_log.coef, -np.log10(ADuniv_log.pval),\n",
    "                hue=ADuniv_log[\"Significant\"], edgecolor=\"none\", alpha=.3).set(xlim=(-10,10))"
   ]
  },
  {
   "cell_type": "markdown",
   "metadata": {},
   "source": [
    "#### 4.2.2 Biological interpretation\n",
    "\n",
    "Similar to the [biological interpretation of linear regression results](#4.1.2-Biological-interpretation), Alzheimer's hallmark proteins Amyloid beta and Tau protein are highly signficant. However, SMOC1 is not significant this time, despite its huge outlier beta-coefficient of 75 (in fact, it's the only outlier not shown in this volcano plot). Closer examination reveals that this is because of perfect separability, as demonstrated in the plot below. In perfect separability cases, logistic regression fails to give meaningful p-values."
   ]
  },
  {
   "cell_type": "code",
   "execution_count": 23,
   "metadata": {},
   "outputs": [
    {
     "data": {
      "text/html": [
       "<div>\n",
       "<style scoped>\n",
       "    .dataframe tbody tr th:only-of-type {\n",
       "        vertical-align: middle;\n",
       "    }\n",
       "\n",
       "    .dataframe tbody tr th {\n",
       "        vertical-align: top;\n",
       "    }\n",
       "\n",
       "    .dataframe thead th {\n",
       "        text-align: right;\n",
       "    }\n",
       "</style>\n",
       "<table border=\"1\" class=\"dataframe\">\n",
       "  <thead>\n",
       "    <tr style=\"text-align: right;\">\n",
       "      <th></th>\n",
       "      <th>Gene</th>\n",
       "      <th>coef</th>\n",
       "      <th>pval</th>\n",
       "      <th>Significant</th>\n",
       "    </tr>\n",
       "    <tr>\n",
       "      <th>Accession</th>\n",
       "      <th></th>\n",
       "      <th></th>\n",
       "      <th></th>\n",
       "      <th></th>\n",
       "    </tr>\n",
       "  </thead>\n",
       "  <tbody>\n",
       "    <tr>\n",
       "      <td>Q9H4F8-2</td>\n",
       "      <td>SMOC1</td>\n",
       "      <td>75.437876</td>\n",
       "      <td>0.677965</td>\n",
       "      <td>False</td>\n",
       "    </tr>\n",
       "    <tr>\n",
       "      <td>P05067</td>\n",
       "      <td>APP</td>\n",
       "      <td>3.675193</td>\n",
       "      <td>0.000359</td>\n",
       "      <td>FDR</td>\n",
       "    </tr>\n",
       "    <tr>\n",
       "      <td>P10636</td>\n",
       "      <td>MAPT</td>\n",
       "      <td>5.751427</td>\n",
       "      <td>0.007119</td>\n",
       "      <td>FDR</td>\n",
       "    </tr>\n",
       "    <tr>\n",
       "      <td>P37840</td>\n",
       "      <td>SNCA</td>\n",
       "      <td>-0.433795</td>\n",
       "      <td>0.199033</td>\n",
       "      <td>False</td>\n",
       "    </tr>\n",
       "  </tbody>\n",
       "</table>\n",
       "</div>"
      ],
      "text/plain": [
       "            Gene       coef      pval Significant\n",
       "Accession                                        \n",
       "Q9H4F8-2   SMOC1  75.437876  0.677965       False\n",
       "P05067       APP   3.675193  0.000359         FDR\n",
       "P10636      MAPT   5.751427  0.007119         FDR\n",
       "P37840      SNCA  -0.433795  0.199033       False"
      ]
     },
     "execution_count": 23,
     "metadata": {},
     "output_type": "execute_result"
    }
   ],
   "source": [
    "ADuniv_log.loc[(\"Q9H4F8-2\", \"P05067\", \"P10636\", \"P37840\"),:]"
   ]
  },
  {
   "cell_type": "code",
   "execution_count": 24,
   "metadata": {},
   "outputs": [
    {
     "data": {
      "text/plain": [
       "<matplotlib.axes._subplots.AxesSubplot at 0x7f36a8f55438>"
      ]
     },
     "execution_count": 24,
     "metadata": {},
     "output_type": "execute_result"
    },
    {
     "data": {
      "image/png": "[encoded data removed]",
      "text/plain": [
       "<Figure size 432x288 with 1 Axes>"
      ]
     },
     "metadata": {
      "needs_background": "light"
     },
     "output_type": "display_data"
    }
   ],
   "source": [
    "sns.stripplot(AD, proteome[\"Q9H4F8-2\"], hue=AD)"
   ]
  },
  {
   "cell_type": "markdown",
   "metadata": {},
   "source": [
    "### 4.3 Comparison of univariate linear- and logistic-regression results\n",
    "\n",
    "It already becomes obvious by comparing the numbers of significant variables that linear-regression seems to be more powerful on this dataset: 132 Bonferroni- and 1623 FDR-significant proteins for linear-regression vs 0 Bonferroni- and 1016 FDR-significant proteins for logistic-regression (at the 0.05 level).\n",
    "\n",
    "A more detailed interactive comparison of the two results are in the accompanying files [2_compare_univariate_results.ipynb](2_compare_univariate_results.ipynb) and [2_compare_univariate_results.html](2_compare_univariate_results.html)."
   ]
  },
  {
   "cell_type": "markdown",
   "metadata": {},
   "source": [
    "## 5 Multivariate LASSO logistic regression\n",
    "\n",
    "Remove SMOC1 (Q9H4F8-2) because of perfect separability. LASSO selects a subset of variables as predictors by penalizing on the L1-Norm of the beta-coefficients. SKLearn's [LogisticRegressionCV](https://scikit-learn.org/stable/modules/generated/sklearn.linear_model.LogisticRegressionCV.html) employs cross-validation to identify the optimal lambda (or C) hyperparameter. Below are the selected proteins and their beta coefficients. The training-set size is 30 samples and the test set size is 10 samples."
   ]
  },
  {
   "cell_type": "code",
   "execution_count": 25,
   "metadata": {},
   "outputs": [
    {
     "data": {
      "text/plain": [
       "[('Q15019-2', 0.07475893865168265),\n",
       " ('O75078', -0.050325227951352365),\n",
       " ('P05067', 0.17694675093618312),\n",
       " ('V9GYM8', -0.07648340129495527),\n",
       " ('P00966', 0.191924439342754),\n",
       " ('Q9UL15-2', -0.510364224138429),\n",
       " ('Q13490', -0.5421988317437187),\n",
       " ('Q9P1Z2', -0.03638737562594481),\n",
       " ('Q6P1J9', 0.004524336572358402),\n",
       " ('P02741', 0.09237296335569202),\n",
       " ('H7BYT1', 0.06420940778665873),\n",
       " ('Q96CG8', 0.39981851677520247),\n",
       " ('Q9UDY4', -0.11248206786135964),\n",
       " ('P07099', 0.0007605163156639481),\n",
       " ('P13726', 0.04195137694704598),\n",
       " ('Q86UX7', 0.07357031570028937),\n",
       " ('P60520', -0.0644233709563225),\n",
       " ('A6NHX0', -0.3453335016480302),\n",
       " ('Q9NZ52', -0.00860676289560626),\n",
       " ('Q8NDH6', -0.23816834785355184),\n",
       " ('Q14571', 0.0382484527026758),\n",
       " ('Q5SVJ7', -0.0004414865014175081),\n",
       " ('P18428', 0.006796543792457058),\n",
       " ('Q96NI6', -0.30309139344409874),\n",
       " ('Q5VZK9', 0.22035565656560557),\n",
       " ('Q8NAA5', -0.10402188465951608),\n",
       " ('P10636-6', 0.013450968474848817),\n",
       " ('E9PLM6', 0.26298961658960146),\n",
       " ('Q8WUY8', -0.006599971944642447),\n",
       " ('Q9Y697', -0.0006719433704057629),\n",
       " ('P01303', 0.23428022737294701),\n",
       " ('P01111', -0.1864771747887415),\n",
       " ('Q96F24', -0.008795708075730577),\n",
       " ('A0A087WWT2', -0.037268070955115605),\n",
       " ('Q15120-2', -0.0027301018340764385),\n",
       " ('Q96CD2', 0.21705705577837567),\n",
       " ('O75335', -0.03866794657308174),\n",
       " ('Q15435', -0.1671110534941245),\n",
       " ('P10586', -0.024519264845207858),\n",
       " ('Q15223', -0.04129885700265995),\n",
       " ('O75116', -0.3738244403852573),\n",
       " ('Q99250', -0.022262810404079087),\n",
       " ('P31947', 0.002606843462763877),\n",
       " ('P60880', -0.07169426434161981),\n",
       " ('Q15526', -0.04561358214852488),\n",
       " ('Q96B77', -0.12307483290713232)]"
      ]
     },
     "execution_count": 25,
     "metadata": {},
     "output_type": "execute_result"
    }
   ],
   "source": [
    "proteome_reduced = proteome.drop(\"Q9H4F8-2\", axis=1)\n",
    "\n",
    "X_train, X_test, y_train, y_test = train_test_split(proteome_reduced, AD, test_size=0.25, random_state=1337)\n",
    "\n",
    "model = LogisticRegressionCV(cv=10, solver=\"liblinear\", penalty=\"l1\", random_state=1337).fit(X_train, y_train)\n",
    "\n",
    "list(zip(proteome_reduced.columns[(model.coef_!=0)[0]],\n",
    "         model.coef_[model.coef_!=0]))"
   ]
  },
  {
   "cell_type": "markdown",
   "metadata": {},
   "source": [
    "### 5.1 Test-set performance"
   ]
  },
  {
   "cell_type": "code",
   "execution_count": 26,
   "metadata": {},
   "outputs": [
    {
     "name": "stdout",
     "output_type": "stream",
     "text": [
      "Training accuracy: 1.0\n",
      "Training F1 score: 1.0\n",
      "Test-set accuracy: 0.9\n",
      "Test-set F1 score: 0.8571428571428571\n"
     ]
    }
   ],
   "source": [
    "# train accuracy + confusion matrix\n",
    "y_pred_class = model.predict(X_train)\n",
    "print(\"Training accuracy:\", metrics.accuracy_score(y_train, y_pred_class))\n",
    "print(\"Training F1 score:\", metrics.f1_score(y_train, y_pred_class))\n",
    "#print(\"Log loss:\", metrics.log_loss(y_train, y_pred_class))\n",
    "#print(metrics.confusion_matrix(y_train, y_pred_class).transpose())\n",
    "\n",
    "# test accuracy + confusion matrix\n",
    "y_pred_class = model.predict(X_test)\n",
    "print(\"Test-set accuracy:\", metrics.accuracy_score(y_test, y_pred_class))\n",
    "print(\"Test-set F1 score:\", metrics.f1_score(y_test, y_pred_class))\n",
    "#print(\"Log loss:\", metrics.log_loss(y_test, y_pred_class))\n",
    "#print(metrics.confusion_matrix(y_test, y_pred_class).transpose())"
   ]
  },
  {
   "cell_type": "code",
   "execution_count": null,
   "metadata": {},
   "outputs": [],
   "source": []
  }
 ],
 "metadata": {
  "kernelspec": {
   "display_name": "Python 3",
   "language": "python",
   "name": "python3"
  },
  "language_info": {
   "codemirror_mode": {
    "name": "ipython",
    "version": 3
   },
   "file_extension": ".py",
   "mimetype": "text/x-python",
   "name": "python",
   "nbconvert_exporter": "python",
   "pygments_lexer": "ipython3",
   "version": "3.7.3"
  }
 },
 "nbformat": 4,
 "nbformat_minor": 4
}
